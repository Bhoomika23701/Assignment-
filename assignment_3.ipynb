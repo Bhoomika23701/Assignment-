{
  "nbformat": 4,
  "nbformat_minor": 0,
  "metadata": {
    "colab": {
      "provenance": []
    },
    "kernelspec": {
      "name": "python3",
      "display_name": "Python 3"
    },
    "language_info": {
      "name": "python"
    }
  },
  "cells": [
    {
      "cell_type": "code",
      "execution_count": null,
      "metadata": {
        "colab": {
          "base_uri": "https://localhost:8080/"
        },
        "id": "3QsNuoPJLR8j",
        "outputId": "d01ccea2-0300-46fe-b68a-b7aa81b659df"
      },
      "outputs": [
        {
          "output_type": "stream",
          "name": "stdout",
          "text": [
            "Probability of Heads: 0.7\n",
            "Probability of Tails: 0.3\n"
          ]
        }
      ],
      "source": [
        "heads = 70\n",
        "tails = 30\n",
        "total = heads + tails\n",
        "\n",
        "# Probability calculations\n",
        "p_heads = heads / total\n",
        "p_tails = tails / total\n",
        "\n",
        "print(f\"Probability of Heads: {p_heads}\")\n",
        "print(f\"Probability of Tails: {p_tails}\")"
      ]
    },
    {
      "cell_type": "code",
      "source": [
        "P_disease = 0.03                 # 3% of people have the disease\n",
        "P_positive_given_disease = 0.97  # 97% chance test is positive if diseased\n",
        "P_positive_given_no_disease = 0.05  # 5% false positive rate\n",
        "\n",
        "# Total probability of testing positive:\n",
        "P_no_disease = 1 - P_disease\n",
        "P_positive = (P_positive_given_disease * P_disease) + (P_positive_given_no_disease * P_no_disease)\n",
        "\n",
        "# Bayes' Theorem\n",
        "P_disease_given_positive = (P_positive_given_disease * P_disease) / P_positive\n",
        "\n",
        "print(f\"Probability of having disease given a positive test: {P_disease_given_positive:.4f}\")"
      ],
      "metadata": {
        "colab": {
          "base_uri": "https://localhost:8080/"
        },
        "id": "gWrs_uBrLkEc",
        "outputId": "925397e3-4e0f-418c-cb9b-909ffe22fa1d"
      },
      "execution_count": null,
      "outputs": [
        {
          "output_type": "stream",
          "name": "stdout",
          "text": [
            "Probability of having disease given a positive test: 0.3750\n"
          ]
        }
      ]
    },
    {
      "cell_type": "code",
      "source": [
        "\n",
        "\n",
        "def f(x):\n",
        "    return 4*x**3 + 3*x - 6\n",
        "\n",
        "# Derivative of f(x): f'(x) = 12*x**2 - 3\n",
        "def f_prime(x):\n",
        "    return 12*x**2 - 3\n",
        "\n",
        "# Evaluate derivative at a point\n",
        "x_val = 2\n",
        "print(f\"Derivative at x = {x_val}: {f_prime(x_val)}\")"
      ],
      "metadata": {
        "colab": {
          "base_uri": "https://localhost:8080/"
        },
        "id": "4F8uge37LoWt",
        "outputId": "44756a16-3fcb-46c3-899b-54efb4e8d28a"
      },
      "execution_count": null,
      "outputs": [
        {
          "output_type": "stream",
          "name": "stdout",
          "text": [
            "Derivative at x = 2: 45\n"
          ]
        }
      ]
    },
    {
      "cell_type": "code",
      "source": [
        "\n",
        "learning_rate = 0.3\n",
        "x = 2  # starting point\n",
        "\n",
        "# Perform one step of gradient descent\n",
        "gradient = f_prime(x)\n",
        "x_new = x - learning_rate * gradient\n",
        "\n",
        "print(f\"New x after one gradient descent step: {x_new}\")"
      ],
      "metadata": {
        "id": "iCs6m2OTLtGf",
        "outputId": "54e57bce-2963-4353-820c-57560077d146",
        "colab": {
          "base_uri": "https://localhost:8080/"
        }
      },
      "execution_count": null,
      "outputs": [
        {
          "output_type": "stream",
          "name": "stdout",
          "text": [
            "New x after one gradient descent step: -11.5\n"
          ]
        }
      ]
    }
  ]
}